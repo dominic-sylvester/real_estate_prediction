{
 "cells": [
  {
   "cell_type": "markdown",
   "metadata": {},
   "source": [
    "# Forecasting\n",
    "It seems like SARIMA model is the best. Let's compare forecasts between these five zipcodes to decide which one to invest in."
   ]
  },
  {
   "cell_type": "code",
   "execution_count": 35,
   "metadata": {},
   "outputs": [],
   "source": [
    "%reload_ext autoreload\n",
    "%autoreload 2\n",
    "import warnings\n",
    "from statsmodels.tools.sm_exceptions import ConvergenceWarning\n",
    "warnings.simplefilter('ignore', ConvergenceWarning)"
   ]
  },
  {
   "cell_type": "code",
   "execution_count": 36,
   "metadata": {},
   "outputs": [],
   "source": [
    "import pandas as pd\n",
    "import numpy as np\n",
    "\n",
    "import matplotlib.pyplot as plt\n",
    "%matplotlib inline\n",
    "plt.style.use('fivethirtyeight')\n",
    "\n",
    "import seaborn as sns\n",
    "\n",
    "import pickle\n",
    "\n",
    "from SCRIPT.eval_tools import *\n",
    "\n",
    "from statsmodels.tsa.arima_model import ARIMA\n",
    "from statsmodels.tsa.statespace.sarimax import SARIMAX"
   ]
  },
  {
   "cell_type": "code",
   "execution_count": 37,
   "metadata": {},
   "outputs": [],
   "source": [
    "with open('PKL/timeseries_queens_p.pkl', 'rb') as fp:\n",
    "    df = pickle.load(fp)\n",
    "df.index = pd.DatetimeIndex(df.index.values, freq='infer')\n",
    "df.columns = df.columns.astype(str)"
   ]
  },
  {
   "cell_type": "code",
   "execution_count": 38,
   "metadata": {},
   "outputs": [],
   "source": [
    "select_zipcode = ['11101', '11693', '11692', '11694', '11103']"
   ]
  },
  {
   "cell_type": "code",
   "execution_count": 39,
   "metadata": {},
   "outputs": [],
   "source": [
    "# dividing up dataframe\n",
    "zip_1 = select_zipcode[0]\n",
    "sel_df1 = df[zip_1]\n",
    "zip_2 = select_zipcode[1]\n",
    "sel_df2 = df[zip_2]\n",
    "zip_3 = select_zipcode[2]\n",
    "sel_df3 = df[zip_3]\n",
    "zip_4 = select_zipcode[3]\n",
    "sel_df4 = df[zip_4]\n",
    "zip_5 = select_zipcode[4]\n",
    "sel_df5 = df[zip_5]"
   ]
  },
  {
   "cell_type": "markdown",
   "metadata": {},
   "source": [
    "# Get Forecast\n",
    "First, I'll take forecast for each zipcode and combine them."
   ]
  },
  {
   "cell_type": "markdown",
   "metadata": {},
   "source": [
    "### zipcode 1"
   ]
  },
  {
   "cell_type": "code",
   "execution_count": 40,
   "metadata": {},
   "outputs": [],
   "source": [
    "pdq = (1, 1, 1)\n",
    "SPDQ = (0, 0, 1, 12)"
   ]
  },
  {
   "cell_type": "code",
   "execution_count": 41,
   "metadata": {},
   "outputs": [],
   "source": [
    "sarima = SARIMAX(sel_df1, order=pdq, \n",
    "        seasonal_order=SPDQ, \n",
    "        enforce_stationarity=False, \n",
    "        enforce_invertibility=False)\n",
    "sarima_model1 = sarima.fit()"
   ]
  },
  {
   "cell_type": "code",
   "execution_count": 42,
   "metadata": {},
   "outputs": [],
   "source": [
    "pred1 = sarima_model1.forecast(steps = 60)"
   ]
  },
  {
   "cell_type": "markdown",
   "metadata": {},
   "source": [
    "### zipcode 2"
   ]
  },
  {
   "cell_type": "code",
   "execution_count": 43,
   "metadata": {},
   "outputs": [],
   "source": [
    "pdq = (1, 1, 1)\n",
    "SPDQ = (1, 0, 1, 12)"
   ]
  },
  {
   "cell_type": "code",
   "execution_count": 44,
   "metadata": {},
   "outputs": [],
   "source": [
    "sarima = SARIMAX(sel_df2, order=pdq, \n",
    "        seasonal_order=SPDQ, \n",
    "        enforce_stationarity=False, \n",
    "        enforce_invertibility=False)\n",
    "sarima_model2 = sarima.fit()"
   ]
  },
  {
   "cell_type": "code",
   "execution_count": 45,
   "metadata": {},
   "outputs": [],
   "source": [
    "pred2 = sarima_model2.forecast(steps = 60)"
   ]
  },
  {
   "cell_type": "markdown",
   "metadata": {},
   "source": [
    "### zipcode 3"
   ]
  },
  {
   "cell_type": "code",
   "execution_count": 46,
   "metadata": {},
   "outputs": [],
   "source": [
    "pdq = (1, 0, 1)\n",
    "SPDQ = (1, 0, 1, 12)"
   ]
  },
  {
   "cell_type": "code",
   "execution_count": 47,
   "metadata": {},
   "outputs": [],
   "source": [
    "sarima = SARIMAX(sel_df3, order=pdq, \n",
    "        seasonal_order=SPDQ, \n",
    "        enforce_stationarity=False, \n",
    "        enforce_invertibility=False)\n",
    "sarima_model3 = sarima.fit()"
   ]
  },
  {
   "cell_type": "code",
   "execution_count": 48,
   "metadata": {},
   "outputs": [],
   "source": [
    "pred3 = sarima_model3.forecast(steps = 60)"
   ]
  },
  {
   "cell_type": "markdown",
   "metadata": {},
   "source": [
    "### zipcode 4"
   ]
  },
  {
   "cell_type": "code",
   "execution_count": 49,
   "metadata": {},
   "outputs": [],
   "source": [
    "pdq = (1, 0, 0)\n",
    "SPDQ = (1, 0, 1, 12)"
   ]
  },
  {
   "cell_type": "code",
   "execution_count": 50,
   "metadata": {},
   "outputs": [],
   "source": [
    "sarima = SARIMAX(sel_df4, order=pdq, \n",
    "        seasonal_order=SPDQ, \n",
    "        enforce_stationarity=False, \n",
    "        enforce_invertibility=False)\n",
    "sarima_model4 = sarima.fit()"
   ]
  },
  {
   "cell_type": "code",
   "execution_count": 51,
   "metadata": {},
   "outputs": [],
   "source": [
    "pred4 = sarima_model4.forecast(steps = 60)"
   ]
  },
  {
   "cell_type": "markdown",
   "metadata": {},
   "source": [
    "### zipcode 5"
   ]
  },
  {
   "cell_type": "code",
   "execution_count": 52,
   "metadata": {},
   "outputs": [],
   "source": [
    "pdq = (0, 1, 1)\n",
    "SPDQ = (1, 0, 1, 12)"
   ]
  },
  {
   "cell_type": "code",
   "execution_count": 53,
   "metadata": {},
   "outputs": [],
   "source": [
    "sarima = SARIMAX(sel_df5, order=pdq, \n",
    "        seasonal_order=SPDQ, \n",
    "        enforce_stationarity=False, \n",
    "        enforce_invertibility=False)\n",
    "sarima_model5 = sarima.fit()"
   ]
  },
  {
   "cell_type": "code",
   "execution_count": 54,
   "metadata": {},
   "outputs": [],
   "source": [
    "pred5 = sarima_model5.forecast(steps = 60)"
   ]
  },
  {
   "cell_type": "markdown",
   "metadata": {},
   "source": [
    "# Plot Forecast"
   ]
  },
  {
   "cell_type": "code",
   "execution_count": 57,
   "metadata": {},
   "outputs": [
    {
     "data": {
      "image/png": "[encoded data removed]",
      "text/plain": [
       "<Figure size 576x432 with 1 Axes>"
      ]
     },
     "metadata": {},
     "output_type": "display_data"
    }
   ],
   "source": [
    "fig = plt.figure(figsize = (8, 6))\n",
    "plt.plot(pred1, label = select_zipcode[0])\n",
    "plt.plot(pred2, label = select_zipcode[1])\n",
    "plt.plot(pred3, label = select_zipcode[2])\n",
    "plt.plot(pred4, label = select_zipcode[3])\n",
    "plt.plot(pred5, label = select_zipcode[4])\n",
    "#plt.xticks(range(0, 12*5, 12), ['2020-09', '2021-09', '2022-09', '2023-09', '2024-09'])\n",
    "plt.xlabel('Date')\n",
    "plt.ylabel('Percent Increase')\n",
    "plt.title('Percent Increase Forecast of 5 zipcodes in Queens')\n",
    "plt.legend(bbox_to_anchor = (1, 1))\n",
    "plt.show()"
   ]
  },
  {
   "cell_type": "markdown",
   "metadata": {},
   "source": [
    "It seems like "
   ]
  }
 ],
 "metadata": {
  "kernelspec": {
   "display_name": "Python 3",
   "language": "python",
   "name": "python3"
  },
  "language_info": {
   "codemirror_mode": {
    "name": "ipython",
    "version": 3
   },
   "file_extension": ".py",
   "mimetype": "text/x-python",
   "name": "python",
   "nbconvert_exporter": "python",
   "pygments_lexer": "ipython3",
   "version": "3.7.4"
  }
 },
 "nbformat": 4,
 "nbformat_minor": 2
}
