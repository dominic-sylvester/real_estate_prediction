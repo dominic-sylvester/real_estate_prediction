{
 "cells": [
  {
   "cell_type": "code",
   "execution_count": 30,
   "metadata": {},
   "outputs": [],
   "source": [
    "import pandas as pd\n",
    "import numpy as np\n",
    "import pickle"
   ]
  },
  {
   "cell_type": "code",
   "execution_count": 2,
   "metadata": {},
   "outputs": [
    {
     "name": "stdout",
     "output_type": "stream",
     "text": [
      "Zip_zhvi_uc_sfrcondo_tier_0.33_0.67_sm_sa_mon.csv\r\n"
     ]
    }
   ],
   "source": [
    "ls DATA"
   ]
  },
  {
   "cell_type": "markdown",
   "metadata": {},
   "source": [
    "# Data Import"
   ]
  },
  {
   "cell_type": "code",
   "execution_count": 31,
   "metadata": {
    "scrolled": true
   },
   "outputs": [
    {
     "data": {
      "text/html": [
       "<div>\n",
       "<style scoped>\n",
       "    .dataframe tbody tr th:only-of-type {\n",
       "        vertical-align: middle;\n",
       "    }\n",
       "\n",
       "    .dataframe tbody tr th {\n",
       "        vertical-align: top;\n",
       "    }\n",
       "\n",
       "    .dataframe thead th {\n",
       "        text-align: right;\n",
       "    }\n",
       "</style>\n",
       "<table border=\"1\" class=\"dataframe\">\n",
       "  <thead>\n",
       "    <tr style=\"text-align: right;\">\n",
       "      <th></th>\n",
       "      <th>RegionID</th>\n",
       "      <th>SizeRank</th>\n",
       "      <th>RegionName</th>\n",
       "      <th>RegionType</th>\n",
       "      <th>StateName</th>\n",
       "      <th>State</th>\n",
       "      <th>City</th>\n",
       "      <th>Metro</th>\n",
       "      <th>CountyName</th>\n",
       "      <th>1996-01-31</th>\n",
       "      <th>...</th>\n",
       "      <th>2019-11-30</th>\n",
       "      <th>2019-12-31</th>\n",
       "      <th>2020-01-31</th>\n",
       "      <th>2020-02-29</th>\n",
       "      <th>2020-03-31</th>\n",
       "      <th>2020-04-30</th>\n",
       "      <th>2020-05-31</th>\n",
       "      <th>2020-06-30</th>\n",
       "      <th>2020-07-31</th>\n",
       "      <th>2020-08-31</th>\n",
       "    </tr>\n",
       "  </thead>\n",
       "  <tbody>\n",
       "    <tr>\n",
       "      <th>0</th>\n",
       "      <td>61639</td>\n",
       "      <td>0</td>\n",
       "      <td>10025</td>\n",
       "      <td>Zip</td>\n",
       "      <td>NY</td>\n",
       "      <td>NY</td>\n",
       "      <td>New York</td>\n",
       "      <td>New York-Newark-Jersey City</td>\n",
       "      <td>New York County</td>\n",
       "      <td>245762.0</td>\n",
       "      <td>...</td>\n",
       "      <td>1292776.0</td>\n",
       "      <td>1288753.0</td>\n",
       "      <td>1269532.0</td>\n",
       "      <td>1243884.0</td>\n",
       "      <td>1211977.0</td>\n",
       "      <td>1197322.0</td>\n",
       "      <td>1185428.0</td>\n",
       "      <td>1179938.0</td>\n",
       "      <td>1175379.0</td>\n",
       "      <td>1173231.0</td>\n",
       "    </tr>\n",
       "    <tr>\n",
       "      <th>1</th>\n",
       "      <td>84654</td>\n",
       "      <td>1</td>\n",
       "      <td>60657</td>\n",
       "      <td>Zip</td>\n",
       "      <td>IL</td>\n",
       "      <td>IL</td>\n",
       "      <td>Chicago</td>\n",
       "      <td>Chicago-Naperville-Elgin</td>\n",
       "      <td>Cook County</td>\n",
       "      <td>209547.0</td>\n",
       "      <td>...</td>\n",
       "      <td>487111.0</td>\n",
       "      <td>486300.0</td>\n",
       "      <td>486154.0</td>\n",
       "      <td>487283.0</td>\n",
       "      <td>488823.0</td>\n",
       "      <td>489789.0</td>\n",
       "      <td>489865.0</td>\n",
       "      <td>490118.0</td>\n",
       "      <td>491195.0</td>\n",
       "      <td>493022.0</td>\n",
       "    </tr>\n",
       "    <tr>\n",
       "      <th>2</th>\n",
       "      <td>61637</td>\n",
       "      <td>2</td>\n",
       "      <td>10023</td>\n",
       "      <td>Zip</td>\n",
       "      <td>NY</td>\n",
       "      <td>NY</td>\n",
       "      <td>New York</td>\n",
       "      <td>New York-Newark-Jersey City</td>\n",
       "      <td>New York County</td>\n",
       "      <td>230594.0</td>\n",
       "      <td>...</td>\n",
       "      <td>1080810.0</td>\n",
       "      <td>1099111.0</td>\n",
       "      <td>1117633.0</td>\n",
       "      <td>1130101.0</td>\n",
       "      <td>1129983.0</td>\n",
       "      <td>1138594.0</td>\n",
       "      <td>1143043.0</td>\n",
       "      <td>1147409.0</td>\n",
       "      <td>1149477.0</td>\n",
       "      <td>1155724.0</td>\n",
       "    </tr>\n",
       "  </tbody>\n",
       "</table>\n",
       "<p>3 rows × 305 columns</p>\n",
       "</div>"
      ],
      "text/plain": [
       "   RegionID  SizeRank  RegionName RegionType StateName State      City  \\\n",
       "0     61639         0       10025        Zip        NY    NY  New York   \n",
       "1     84654         1       60657        Zip        IL    IL   Chicago   \n",
       "2     61637         2       10023        Zip        NY    NY  New York   \n",
       "\n",
       "                         Metro       CountyName  1996-01-31  ...  2019-11-30  \\\n",
       "0  New York-Newark-Jersey City  New York County    245762.0  ...   1292776.0   \n",
       "1     Chicago-Naperville-Elgin      Cook County    209547.0  ...    487111.0   \n",
       "2  New York-Newark-Jersey City  New York County    230594.0  ...   1080810.0   \n",
       "\n",
       "   2019-12-31  2020-01-31  2020-02-29  2020-03-31  2020-04-30  2020-05-31  \\\n",
       "0   1288753.0   1269532.0   1243884.0   1211977.0   1197322.0   1185428.0   \n",
       "1    486300.0    486154.0    487283.0    488823.0    489789.0    489865.0   \n",
       "2   1099111.0   1117633.0   1130101.0   1129983.0   1138594.0   1143043.0   \n",
       "\n",
       "   2020-06-30  2020-07-31  2020-08-31  \n",
       "0   1179938.0   1175379.0   1173231.0  \n",
       "1    490118.0    491195.0    493022.0  \n",
       "2   1147409.0   1149477.0   1155724.0  \n",
       "\n",
       "[3 rows x 305 columns]"
      ]
     },
     "execution_count": 31,
     "metadata": {},
     "output_type": "execute_result"
    }
   ],
   "source": [
    "df = pd.read_csv('DATA/Zip_zhvi_uc_sfrcondo_tier_0.33_0.67_sm_sa_mon.csv')\n",
    "df.head(3)"
   ]
  },
  {
   "cell_type": "markdown",
   "metadata": {},
   "source": [
    "The dataframe is in the wide format. I want it to have a column per region and row per timestamp. I will also filter the location down to include only New York. First let's check if our region's are unique."
   ]
  },
  {
   "cell_type": "markdown",
   "metadata": {},
   "source": [
    "## Export Metadata\n",
    "Let's separate out the region meta info so we can reference it later."
   ]
  },
  {
   "cell_type": "code",
   "execution_count": 32,
   "metadata": {},
   "outputs": [],
   "source": [
    "meta = df.iloc[:, 0:9]"
   ]
  },
  {
   "cell_type": "code",
   "execution_count": 33,
   "metadata": {},
   "outputs": [],
   "source": [
    "#import os\n",
    "#os.mkdir('PKL')"
   ]
  },
  {
   "cell_type": "code",
   "execution_count": 34,
   "metadata": {},
   "outputs": [],
   "source": [
    "# saving meta data\n",
    "with open('PKL/meta.pkl', 'wb') as fp:\n",
    "    pickle.dump(meta, fp)"
   ]
  },
  {
   "cell_type": "markdown",
   "metadata": {},
   "source": [
    "## Subset\n",
    "Subsetting to only Queens for now."
   ]
  },
  {
   "cell_type": "code",
   "execution_count": 35,
   "metadata": {},
   "outputs": [],
   "source": [
    "queens = df[df.CountyName == 'Queens County']"
   ]
  },
  {
   "cell_type": "code",
   "execution_count": 36,
   "metadata": {},
   "outputs": [],
   "source": [
    "meta_cols = list(df.columns[0:9])"
   ]
  },
  {
   "cell_type": "code",
   "execution_count": 37,
   "metadata": {},
   "outputs": [],
   "source": [
    "meta_cols.remove('RegionName')"
   ]
  },
  {
   "cell_type": "code",
   "execution_count": 38,
   "metadata": {},
   "outputs": [],
   "source": [
    "queens = queens.drop(meta_cols, axis = 1)"
   ]
  },
  {
   "cell_type": "code",
   "execution_count": 39,
   "metadata": {},
   "outputs": [
    {
     "data": {
      "text/plain": [
       "(54, 297)"
      ]
     },
     "execution_count": 39,
     "metadata": {},
     "output_type": "execute_result"
    }
   ],
   "source": [
    "queens.shape"
   ]
  },
  {
   "cell_type": "code",
   "execution_count": 40,
   "metadata": {},
   "outputs": [
    {
     "data": {
      "text/plain": [
       "'2003-08-31'"
      ]
     },
     "execution_count": 40,
     "metadata": {},
     "output_type": "execute_result"
    }
   ],
   "source": [
    "queens.columns[queens.isnull().sum() != 0][-1]"
   ]
  },
  {
   "cell_type": "markdown",
   "metadata": {},
   "source": [
    "It seems like we have full data of all queens zipcode starting from 2003 September. Let's cap it at that."
   ]
  },
  {
   "cell_type": "code",
   "execution_count": 41,
   "metadata": {},
   "outputs": [],
   "source": [
    "queens = queens.dropna(axis = 1)"
   ]
  },
  {
   "cell_type": "markdown",
   "metadata": {},
   "source": [
    "## Percentage Increase\n",
    "We are trying to find the best neighborhood to invest in. We can approach this in different ways. I can predict the housing price for coming year then calculate the difference OR I can predict the percent increase for each time point. I'll try the percent increase first."
   ]
  },
  {
   "cell_type": "code",
   "execution_count": 54,
   "metadata": {},
   "outputs": [],
   "source": [
    "def calculate_percent_increase(x1, x2):\n",
    "    return ((x2-x1)/x1)*100"
   ]
  },
  {
   "cell_type": "code",
   "execution_count": 55,
   "metadata": {},
   "outputs": [],
   "source": [
    "queens_p = queens.copy()\n",
    "for i in range(queens_p.shape[1]-1,1, -1):\n",
    "    prior = queens_p.iloc[:, i-1]\n",
    "    current = queens_p.iloc[:, i] \n",
    "    queens_p.iloc[:, i] = calculate_percent_increase(prior, current)"
   ]
  },
  {
   "cell_type": "code",
   "execution_count": 56,
   "metadata": {},
   "outputs": [],
   "source": [
    "queens_p = queens_p.drop(['2003-09-30'], axis = 1)"
   ]
  },
  {
   "cell_type": "code",
   "execution_count": 57,
   "metadata": {},
   "outputs": [
    {
     "data": {
      "text/html": [
       "<div>\n",
       "<style scoped>\n",
       "    .dataframe tbody tr th:only-of-type {\n",
       "        vertical-align: middle;\n",
       "    }\n",
       "\n",
       "    .dataframe tbody tr th {\n",
       "        vertical-align: top;\n",
       "    }\n",
       "\n",
       "    .dataframe thead th {\n",
       "        text-align: right;\n",
       "    }\n",
       "</style>\n",
       "<table border=\"1\" class=\"dataframe\">\n",
       "  <thead>\n",
       "    <tr style=\"text-align: right;\">\n",
       "      <th></th>\n",
       "      <th>RegionName</th>\n",
       "      <th>2003-10-31</th>\n",
       "      <th>2003-11-30</th>\n",
       "      <th>2003-12-31</th>\n",
       "      <th>2004-01-31</th>\n",
       "      <th>2004-02-29</th>\n",
       "      <th>2004-03-31</th>\n",
       "      <th>2004-04-30</th>\n",
       "      <th>2004-05-31</th>\n",
       "      <th>2004-06-30</th>\n",
       "      <th>...</th>\n",
       "      <th>2019-11-30</th>\n",
       "      <th>2019-12-31</th>\n",
       "      <th>2020-01-31</th>\n",
       "      <th>2020-02-29</th>\n",
       "      <th>2020-03-31</th>\n",
       "      <th>2020-04-30</th>\n",
       "      <th>2020-05-31</th>\n",
       "      <th>2020-06-30</th>\n",
       "      <th>2020-07-31</th>\n",
       "      <th>2020-08-31</th>\n",
       "    </tr>\n",
       "  </thead>\n",
       "  <tbody>\n",
       "    <tr>\n",
       "      <th>20</th>\n",
       "      <td>11375</td>\n",
       "      <td>0.641106</td>\n",
       "      <td>0.913096</td>\n",
       "      <td>0.393119</td>\n",
       "      <td>0.631139</td>\n",
       "      <td>0.435425</td>\n",
       "      <td>0.625393</td>\n",
       "      <td>0.455833</td>\n",
       "      <td>0.666596</td>\n",
       "      <td>1.167856</td>\n",
       "      <td>...</td>\n",
       "      <td>-0.235229</td>\n",
       "      <td>0.303563</td>\n",
       "      <td>-0.195293</td>\n",
       "      <td>0.024489</td>\n",
       "      <td>-0.426299</td>\n",
       "      <td>-0.056890</td>\n",
       "      <td>-0.313316</td>\n",
       "      <td>0.178322</td>\n",
       "      <td>0.533047</td>\n",
       "      <td>0.647460</td>\n",
       "    </tr>\n",
       "    <tr>\n",
       "      <th>108</th>\n",
       "      <td>11377</td>\n",
       "      <td>0.025764</td>\n",
       "      <td>0.023655</td>\n",
       "      <td>0.921259</td>\n",
       "      <td>1.147181</td>\n",
       "      <td>1.159911</td>\n",
       "      <td>0.756265</td>\n",
       "      <td>0.799079</td>\n",
       "      <td>0.995691</td>\n",
       "      <td>1.538103</td>\n",
       "      <td>...</td>\n",
       "      <td>0.310192</td>\n",
       "      <td>0.464618</td>\n",
       "      <td>1.262602</td>\n",
       "      <td>1.144025</td>\n",
       "      <td>1.365576</td>\n",
       "      <td>1.264332</td>\n",
       "      <td>0.898478</td>\n",
       "      <td>0.549540</td>\n",
       "      <td>0.489825</td>\n",
       "      <td>0.827001</td>\n",
       "    </tr>\n",
       "  </tbody>\n",
       "</table>\n",
       "<p>2 rows × 204 columns</p>\n",
       "</div>"
      ],
      "text/plain": [
       "     RegionName  2003-10-31  2003-11-30  2003-12-31  2004-01-31  2004-02-29  \\\n",
       "20        11375    0.641106    0.913096    0.393119    0.631139    0.435425   \n",
       "108       11377    0.025764    0.023655    0.921259    1.147181    1.159911   \n",
       "\n",
       "     2004-03-31  2004-04-30  2004-05-31  2004-06-30  ...  2019-11-30  \\\n",
       "20     0.625393    0.455833    0.666596    1.167856  ...   -0.235229   \n",
       "108    0.756265    0.799079    0.995691    1.538103  ...    0.310192   \n",
       "\n",
       "     2019-12-31  2020-01-31  2020-02-29  2020-03-31  2020-04-30  2020-05-31  \\\n",
       "20     0.303563   -0.195293    0.024489   -0.426299   -0.056890   -0.313316   \n",
       "108    0.464618    1.262602    1.144025    1.365576    1.264332    0.898478   \n",
       "\n",
       "     2020-06-30  2020-07-31  2020-08-31  \n",
       "20     0.178322    0.533047    0.647460  \n",
       "108    0.549540    0.489825    0.827001  \n",
       "\n",
       "[2 rows x 204 columns]"
      ]
     },
     "execution_count": 57,
     "metadata": {},
     "output_type": "execute_result"
    }
   ],
   "source": [
    "queens_p.head(2)"
   ]
  },
  {
   "cell_type": "markdown",
   "metadata": {},
   "source": [
    "## Transpose\n",
    "Now I'll change the format to the wide format."
   ]
  },
  {
   "cell_type": "code",
   "execution_count": 59,
   "metadata": {},
   "outputs": [],
   "source": [
    "queens_p = queens_p.set_index('RegionName').transpose()"
   ]
  },
  {
   "cell_type": "markdown",
   "metadata": {},
   "source": [
    "## Fix Datetime\n",
    "Let's convert the index to datetime."
   ]
  },
  {
   "cell_type": "code",
   "execution_count": 60,
   "metadata": {},
   "outputs": [],
   "source": [
    "queens_p.index = pd.DatetimeIndex(queens_p.index)"
   ]
  },
  {
   "cell_type": "code",
   "execution_count": 61,
   "metadata": {},
   "outputs": [],
   "source": [
    "queens_p.index = queens_p.index.strftime('%m/%Y')"
   ]
  },
  {
   "cell_type": "code",
   "execution_count": 62,
   "metadata": {},
   "outputs": [],
   "source": [
    "queens_p.columns.name = None"
   ]
  },
  {
   "cell_type": "markdown",
   "metadata": {},
   "source": [
    "## Exporting \n",
    "Now let's export the dataframe."
   ]
  },
  {
   "cell_type": "code",
   "execution_count": 63,
   "metadata": {},
   "outputs": [],
   "source": [
    "with open('PKL/timeseries_queens_p.pkl', 'wb') as fp:\n",
    "    pickle.dump(queens_p, fp)"
   ]
  },
  {
   "cell_type": "code",
   "execution_count": 64,
   "metadata": {},
   "outputs": [],
   "source": [
    "queens_p.to_csv('DATA/timeseries_queens_p.csv', header=True)"
   ]
  },
  {
   "cell_type": "code",
   "execution_count": 65,
   "metadata": {},
   "outputs": [
    {
     "data": {
      "text/html": [
       "<div>\n",
       "<style scoped>\n",
       "    .dataframe tbody tr th:only-of-type {\n",
       "        vertical-align: middle;\n",
       "    }\n",
       "\n",
       "    .dataframe tbody tr th {\n",
       "        vertical-align: top;\n",
       "    }\n",
       "\n",
       "    .dataframe thead th {\n",
       "        text-align: right;\n",
       "    }\n",
       "</style>\n",
       "<table border=\"1\" class=\"dataframe\">\n",
       "  <thead>\n",
       "    <tr style=\"text-align: right;\">\n",
       "      <th></th>\n",
       "      <th>11375</th>\n",
       "      <th>11377</th>\n",
       "      <th>11355</th>\n",
       "      <th>11385</th>\n",
       "      <th>11373</th>\n",
       "      <th>11372</th>\n",
       "      <th>11101</th>\n",
       "      <th>11368</th>\n",
       "      <th>11354</th>\n",
       "      <th>11374</th>\n",
       "      <th>...</th>\n",
       "      <th>11411</th>\n",
       "      <th>11426</th>\n",
       "      <th>11428</th>\n",
       "      <th>11693</th>\n",
       "      <th>11004</th>\n",
       "      <th>11416</th>\n",
       "      <th>11436</th>\n",
       "      <th>11366</th>\n",
       "      <th>11363</th>\n",
       "      <th>11430</th>\n",
       "    </tr>\n",
       "  </thead>\n",
       "  <tbody>\n",
       "    <tr>\n",
       "      <th>count</th>\n",
       "      <td>203.000000</td>\n",
       "      <td>203.000000</td>\n",
       "      <td>203.000000</td>\n",
       "      <td>203.000000</td>\n",
       "      <td>203.000000</td>\n",
       "      <td>203.000000</td>\n",
       "      <td>203.000000</td>\n",
       "      <td>203.000000</td>\n",
       "      <td>203.000000</td>\n",
       "      <td>203.000000</td>\n",
       "      <td>...</td>\n",
       "      <td>203.000000</td>\n",
       "      <td>203.000000</td>\n",
       "      <td>203.000000</td>\n",
       "      <td>203.000000</td>\n",
       "      <td>203.000000</td>\n",
       "      <td>203.000000</td>\n",
       "      <td>203.000000</td>\n",
       "      <td>203.000000</td>\n",
       "      <td>203.000000</td>\n",
       "      <td>203.000000</td>\n",
       "    </tr>\n",
       "    <tr>\n",
       "      <th>mean</th>\n",
       "      <td>0.346812</td>\n",
       "      <td>0.397997</td>\n",
       "      <td>0.377397</td>\n",
       "      <td>0.310279</td>\n",
       "      <td>0.316201</td>\n",
       "      <td>0.381431</td>\n",
       "      <td>0.533002</td>\n",
       "      <td>0.391440</td>\n",
       "      <td>0.360144</td>\n",
       "      <td>0.353884</td>\n",
       "      <td>...</td>\n",
       "      <td>0.273891</td>\n",
       "      <td>0.288595</td>\n",
       "      <td>0.231554</td>\n",
       "      <td>0.308075</td>\n",
       "      <td>0.197474</td>\n",
       "      <td>0.254911</td>\n",
       "      <td>0.311145</td>\n",
       "      <td>0.345299</td>\n",
       "      <td>0.196537</td>\n",
       "      <td>0.199160</td>\n",
       "    </tr>\n",
       "    <tr>\n",
       "      <th>std</th>\n",
       "      <td>0.669167</td>\n",
       "      <td>0.771704</td>\n",
       "      <td>0.665156</td>\n",
       "      <td>0.662708</td>\n",
       "      <td>0.782095</td>\n",
       "      <td>0.856910</td>\n",
       "      <td>0.785882</td>\n",
       "      <td>0.769664</td>\n",
       "      <td>0.670916</td>\n",
       "      <td>0.852044</td>\n",
       "      <td>...</td>\n",
       "      <td>0.736335</td>\n",
       "      <td>0.685830</td>\n",
       "      <td>0.734456</td>\n",
       "      <td>1.031377</td>\n",
       "      <td>0.705749</td>\n",
       "      <td>0.836916</td>\n",
       "      <td>0.816727</td>\n",
       "      <td>0.649757</td>\n",
       "      <td>0.620341</td>\n",
       "      <td>0.659600</td>\n",
       "    </tr>\n",
       "    <tr>\n",
       "      <th>min</th>\n",
       "      <td>-1.990846</td>\n",
       "      <td>-1.625696</td>\n",
       "      <td>-1.990776</td>\n",
       "      <td>-1.285888</td>\n",
       "      <td>-2.007884</td>\n",
       "      <td>-1.962546</td>\n",
       "      <td>-1.727259</td>\n",
       "      <td>-1.893513</td>\n",
       "      <td>-1.934911</td>\n",
       "      <td>-2.347053</td>\n",
       "      <td>...</td>\n",
       "      <td>-1.466769</td>\n",
       "      <td>-1.840600</td>\n",
       "      <td>-1.688152</td>\n",
       "      <td>-2.107444</td>\n",
       "      <td>-1.714410</td>\n",
       "      <td>-2.208515</td>\n",
       "      <td>-1.618457</td>\n",
       "      <td>-1.945184</td>\n",
       "      <td>-1.875439</td>\n",
       "      <td>-1.513223</td>\n",
       "    </tr>\n",
       "    <tr>\n",
       "      <th>25%</th>\n",
       "      <td>-0.054836</td>\n",
       "      <td>-0.131548</td>\n",
       "      <td>-0.038391</td>\n",
       "      <td>-0.110817</td>\n",
       "      <td>-0.182179</td>\n",
       "      <td>-0.212565</td>\n",
       "      <td>-0.004947</td>\n",
       "      <td>-0.036683</td>\n",
       "      <td>0.062209</td>\n",
       "      <td>-0.276091</td>\n",
       "      <td>...</td>\n",
       "      <td>-0.103728</td>\n",
       "      <td>-0.060181</td>\n",
       "      <td>-0.191193</td>\n",
       "      <td>-0.470629</td>\n",
       "      <td>-0.231815</td>\n",
       "      <td>-0.119193</td>\n",
       "      <td>-0.195303</td>\n",
       "      <td>-0.080522</td>\n",
       "      <td>-0.189808</td>\n",
       "      <td>-0.192352</td>\n",
       "    </tr>\n",
       "    <tr>\n",
       "      <th>50%</th>\n",
       "      <td>0.448977</td>\n",
       "      <td>0.440358</td>\n",
       "      <td>0.404875</td>\n",
       "      <td>0.341031</td>\n",
       "      <td>0.453339</td>\n",
       "      <td>0.501822</td>\n",
       "      <td>0.497912</td>\n",
       "      <td>0.438233</td>\n",
       "      <td>0.375084</td>\n",
       "      <td>0.440200</td>\n",
       "      <td>...</td>\n",
       "      <td>0.320740</td>\n",
       "      <td>0.372918</td>\n",
       "      <td>0.340239</td>\n",
       "      <td>0.329711</td>\n",
       "      <td>0.220565</td>\n",
       "      <td>0.357698</td>\n",
       "      <td>0.435287</td>\n",
       "      <td>0.421789</td>\n",
       "      <td>0.237238</td>\n",
       "      <td>0.299354</td>\n",
       "    </tr>\n",
       "    <tr>\n",
       "      <th>75%</th>\n",
       "      <td>0.761018</td>\n",
       "      <td>0.931774</td>\n",
       "      <td>0.806497</td>\n",
       "      <td>0.835186</td>\n",
       "      <td>0.808302</td>\n",
       "      <td>0.949512</td>\n",
       "      <td>0.998990</td>\n",
       "      <td>0.867516</td>\n",
       "      <td>0.804775</td>\n",
       "      <td>0.885384</td>\n",
       "      <td>...</td>\n",
       "      <td>0.757962</td>\n",
       "      <td>0.703217</td>\n",
       "      <td>0.642857</td>\n",
       "      <td>1.059630</td>\n",
       "      <td>0.668469</td>\n",
       "      <td>0.788138</td>\n",
       "      <td>0.865981</td>\n",
       "      <td>0.827332</td>\n",
       "      <td>0.580623</td>\n",
       "      <td>0.594032</td>\n",
       "    </tr>\n",
       "    <tr>\n",
       "      <th>max</th>\n",
       "      <td>1.910349</td>\n",
       "      <td>2.621683</td>\n",
       "      <td>1.974653</td>\n",
       "      <td>1.749658</td>\n",
       "      <td>2.060730</td>\n",
       "      <td>2.241417</td>\n",
       "      <td>2.578972</td>\n",
       "      <td>2.030631</td>\n",
       "      <td>2.003723</td>\n",
       "      <td>2.102992</td>\n",
       "      <td>...</td>\n",
       "      <td>2.192268</td>\n",
       "      <td>1.978977</td>\n",
       "      <td>2.031019</td>\n",
       "      <td>2.975201</td>\n",
       "      <td>1.837059</td>\n",
       "      <td>2.238624</td>\n",
       "      <td>2.114471</td>\n",
       "      <td>1.867921</td>\n",
       "      <td>1.884116</td>\n",
       "      <td>1.994809</td>\n",
       "    </tr>\n",
       "  </tbody>\n",
       "</table>\n",
       "<p>8 rows × 54 columns</p>\n",
       "</div>"
      ],
      "text/plain": [
       "            11375       11377       11355       11385       11373       11372  \\\n",
       "count  203.000000  203.000000  203.000000  203.000000  203.000000  203.000000   \n",
       "mean     0.346812    0.397997    0.377397    0.310279    0.316201    0.381431   \n",
       "std      0.669167    0.771704    0.665156    0.662708    0.782095    0.856910   \n",
       "min     -1.990846   -1.625696   -1.990776   -1.285888   -2.007884   -1.962546   \n",
       "25%     -0.054836   -0.131548   -0.038391   -0.110817   -0.182179   -0.212565   \n",
       "50%      0.448977    0.440358    0.404875    0.341031    0.453339    0.501822   \n",
       "75%      0.761018    0.931774    0.806497    0.835186    0.808302    0.949512   \n",
       "max      1.910349    2.621683    1.974653    1.749658    2.060730    2.241417   \n",
       "\n",
       "            11101       11368       11354       11374  ...       11411  \\\n",
       "count  203.000000  203.000000  203.000000  203.000000  ...  203.000000   \n",
       "mean     0.533002    0.391440    0.360144    0.353884  ...    0.273891   \n",
       "std      0.785882    0.769664    0.670916    0.852044  ...    0.736335   \n",
       "min     -1.727259   -1.893513   -1.934911   -2.347053  ...   -1.466769   \n",
       "25%     -0.004947   -0.036683    0.062209   -0.276091  ...   -0.103728   \n",
       "50%      0.497912    0.438233    0.375084    0.440200  ...    0.320740   \n",
       "75%      0.998990    0.867516    0.804775    0.885384  ...    0.757962   \n",
       "max      2.578972    2.030631    2.003723    2.102992  ...    2.192268   \n",
       "\n",
       "            11426       11428       11693       11004       11416       11436  \\\n",
       "count  203.000000  203.000000  203.000000  203.000000  203.000000  203.000000   \n",
       "mean     0.288595    0.231554    0.308075    0.197474    0.254911    0.311145   \n",
       "std      0.685830    0.734456    1.031377    0.705749    0.836916    0.816727   \n",
       "min     -1.840600   -1.688152   -2.107444   -1.714410   -2.208515   -1.618457   \n",
       "25%     -0.060181   -0.191193   -0.470629   -0.231815   -0.119193   -0.195303   \n",
       "50%      0.372918    0.340239    0.329711    0.220565    0.357698    0.435287   \n",
       "75%      0.703217    0.642857    1.059630    0.668469    0.788138    0.865981   \n",
       "max      1.978977    2.031019    2.975201    1.837059    2.238624    2.114471   \n",
       "\n",
       "            11366       11363       11430  \n",
       "count  203.000000  203.000000  203.000000  \n",
       "mean     0.345299    0.196537    0.199160  \n",
       "std      0.649757    0.620341    0.659600  \n",
       "min     -1.945184   -1.875439   -1.513223  \n",
       "25%     -0.080522   -0.189808   -0.192352  \n",
       "50%      0.421789    0.237238    0.299354  \n",
       "75%      0.827332    0.580623    0.594032  \n",
       "max      1.867921    1.884116    1.994809  \n",
       "\n",
       "[8 rows x 54 columns]"
      ]
     },
     "execution_count": 65,
     "metadata": {},
     "output_type": "execute_result"
    }
   ],
   "source": [
    "queens_p.describe()"
   ]
  },
  {
   "cell_type": "code",
   "execution_count": null,
   "metadata": {},
   "outputs": [],
   "source": []
  }
 ],
 "metadata": {
  "kernelspec": {
   "display_name": "Python 3",
   "language": "python",
   "name": "python3"
  },
  "language_info": {
   "codemirror_mode": {
    "name": "ipython",
    "version": 3
   },
   "file_extension": ".py",
   "mimetype": "text/x-python",
   "name": "python",
   "nbconvert_exporter": "python",
   "pygments_lexer": "ipython3",
   "version": "3.7.4"
  }
 },
 "nbformat": 4,
 "nbformat_minor": 2
}
