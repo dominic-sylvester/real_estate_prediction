{
 "cells": [
  {
   "cell_type": "code",
   "execution_count": 1,
   "metadata": {},
   "outputs": [],
   "source": [
    "import pandas as pd\n",
    "import numpy as np\n",
    "import pickle"
   ]
  },
  {
   "cell_type": "code",
   "execution_count": 2,
   "metadata": {},
   "outputs": [
    {
     "name": "stdout",
     "output_type": "stream",
     "text": [
      "Zip_zhvi_uc_sfrcondo_tier_0.33_0.67_sm_sa_mon.csv\r\n"
     ]
    }
   ],
   "source": [
    "ls DATA"
   ]
  },
  {
   "cell_type": "markdown",
   "metadata": {},
   "source": [
    "# Data Import"
   ]
  },
  {
   "cell_type": "code",
   "execution_count": 3,
   "metadata": {
    "scrolled": true
   },
   "outputs": [
    {
     "data": {
      "text/html": [
       "<div>\n",
       "<style scoped>\n",
       "    .dataframe tbody tr th:only-of-type {\n",
       "        vertical-align: middle;\n",
       "    }\n",
       "\n",
       "    .dataframe tbody tr th {\n",
       "        vertical-align: top;\n",
       "    }\n",
       "\n",
       "    .dataframe thead th {\n",
       "        text-align: right;\n",
       "    }\n",
       "</style>\n",
       "<table border=\"1\" class=\"dataframe\">\n",
       "  <thead>\n",
       "    <tr style=\"text-align: right;\">\n",
       "      <th></th>\n",
       "      <th>RegionID</th>\n",
       "      <th>SizeRank</th>\n",
       "      <th>RegionName</th>\n",
       "      <th>RegionType</th>\n",
       "      <th>StateName</th>\n",
       "      <th>State</th>\n",
       "      <th>City</th>\n",
       "      <th>Metro</th>\n",
       "      <th>CountyName</th>\n",
       "      <th>1996-01-31</th>\n",
       "      <th>...</th>\n",
       "      <th>2019-11-30</th>\n",
       "      <th>2019-12-31</th>\n",
       "      <th>2020-01-31</th>\n",
       "      <th>2020-02-29</th>\n",
       "      <th>2020-03-31</th>\n",
       "      <th>2020-04-30</th>\n",
       "      <th>2020-05-31</th>\n",
       "      <th>2020-06-30</th>\n",
       "      <th>2020-07-31</th>\n",
       "      <th>2020-08-31</th>\n",
       "    </tr>\n",
       "  </thead>\n",
       "  <tbody>\n",
       "    <tr>\n",
       "      <th>0</th>\n",
       "      <td>61639</td>\n",
       "      <td>0</td>\n",
       "      <td>10025</td>\n",
       "      <td>Zip</td>\n",
       "      <td>NY</td>\n",
       "      <td>NY</td>\n",
       "      <td>New York</td>\n",
       "      <td>New York-Newark-Jersey City</td>\n",
       "      <td>New York County</td>\n",
       "      <td>245762.0</td>\n",
       "      <td>...</td>\n",
       "      <td>1292776.0</td>\n",
       "      <td>1288753.0</td>\n",
       "      <td>1269532.0</td>\n",
       "      <td>1243884.0</td>\n",
       "      <td>1211977.0</td>\n",
       "      <td>1197322.0</td>\n",
       "      <td>1185428.0</td>\n",
       "      <td>1179938.0</td>\n",
       "      <td>1175379.0</td>\n",
       "      <td>1173231.0</td>\n",
       "    </tr>\n",
       "    <tr>\n",
       "      <th>1</th>\n",
       "      <td>84654</td>\n",
       "      <td>1</td>\n",
       "      <td>60657</td>\n",
       "      <td>Zip</td>\n",
       "      <td>IL</td>\n",
       "      <td>IL</td>\n",
       "      <td>Chicago</td>\n",
       "      <td>Chicago-Naperville-Elgin</td>\n",
       "      <td>Cook County</td>\n",
       "      <td>209547.0</td>\n",
       "      <td>...</td>\n",
       "      <td>487111.0</td>\n",
       "      <td>486300.0</td>\n",
       "      <td>486154.0</td>\n",
       "      <td>487283.0</td>\n",
       "      <td>488823.0</td>\n",
       "      <td>489789.0</td>\n",
       "      <td>489865.0</td>\n",
       "      <td>490118.0</td>\n",
       "      <td>491195.0</td>\n",
       "      <td>493022.0</td>\n",
       "    </tr>\n",
       "    <tr>\n",
       "      <th>2</th>\n",
       "      <td>61637</td>\n",
       "      <td>2</td>\n",
       "      <td>10023</td>\n",
       "      <td>Zip</td>\n",
       "      <td>NY</td>\n",
       "      <td>NY</td>\n",
       "      <td>New York</td>\n",
       "      <td>New York-Newark-Jersey City</td>\n",
       "      <td>New York County</td>\n",
       "      <td>230594.0</td>\n",
       "      <td>...</td>\n",
       "      <td>1080810.0</td>\n",
       "      <td>1099111.0</td>\n",
       "      <td>1117633.0</td>\n",
       "      <td>1130101.0</td>\n",
       "      <td>1129983.0</td>\n",
       "      <td>1138594.0</td>\n",
       "      <td>1143043.0</td>\n",
       "      <td>1147409.0</td>\n",
       "      <td>1149477.0</td>\n",
       "      <td>1155724.0</td>\n",
       "    </tr>\n",
       "  </tbody>\n",
       "</table>\n",
       "<p>3 rows × 305 columns</p>\n",
       "</div>"
      ],
      "text/plain": [
       "   RegionID  SizeRank  RegionName RegionType StateName State      City  \\\n",
       "0     61639         0       10025        Zip        NY    NY  New York   \n",
       "1     84654         1       60657        Zip        IL    IL   Chicago   \n",
       "2     61637         2       10023        Zip        NY    NY  New York   \n",
       "\n",
       "                         Metro       CountyName  1996-01-31  ...  2019-11-30  \\\n",
       "0  New York-Newark-Jersey City  New York County    245762.0  ...   1292776.0   \n",
       "1     Chicago-Naperville-Elgin      Cook County    209547.0  ...    487111.0   \n",
       "2  New York-Newark-Jersey City  New York County    230594.0  ...   1080810.0   \n",
       "\n",
       "   2019-12-31  2020-01-31  2020-02-29  2020-03-31  2020-04-30  2020-05-31  \\\n",
       "0   1288753.0   1269532.0   1243884.0   1211977.0   1197322.0   1185428.0   \n",
       "1    486300.0    486154.0    487283.0    488823.0    489789.0    489865.0   \n",
       "2   1099111.0   1117633.0   1130101.0   1129983.0   1138594.0   1143043.0   \n",
       "\n",
       "   2020-06-30  2020-07-31  2020-08-31  \n",
       "0   1179938.0   1175379.0   1173231.0  \n",
       "1    490118.0    491195.0    493022.0  \n",
       "2   1147409.0   1149477.0   1155724.0  \n",
       "\n",
       "[3 rows x 305 columns]"
      ]
     },
     "execution_count": 3,
     "metadata": {},
     "output_type": "execute_result"
    }
   ],
   "source": [
    "df = pd.read_csv('DATA/Zip_zhvi_uc_sfrcondo_tier_0.33_0.67_sm_sa_mon.csv')\n",
    "df.head(3)"
   ]
  },
  {
   "cell_type": "markdown",
   "metadata": {},
   "source": [
    "The dataframe is in the wide format. I want it to have a column per region and row per timestamp. I will also filter the location down to include only New York. First let's check if our region's are unique."
   ]
  },
  {
   "cell_type": "markdown",
   "metadata": {},
   "source": [
    "## Export Metadata\n",
    "Let's separate out the region meta info so we can reference it later."
   ]
  },
  {
   "cell_type": "code",
   "execution_count": 4,
   "metadata": {},
   "outputs": [],
   "source": [
    "meta = df.iloc[:, 0:9]"
   ]
  },
  {
   "cell_type": "code",
   "execution_count": 5,
   "metadata": {},
   "outputs": [],
   "source": [
    "#import os\n",
    "#os.mkdir('PKL')"
   ]
  },
  {
   "cell_type": "code",
   "execution_count": 6,
   "metadata": {},
   "outputs": [],
   "source": [
    "# saving meta data\n",
    "with open('PKL/meta.pkl', 'wb') as fp:\n",
    "    pickle.dump(meta, fp)"
   ]
  },
  {
   "cell_type": "markdown",
   "metadata": {},
   "source": [
    "## Subset\n",
    "Subsetting to only Queens for now."
   ]
  },
  {
   "cell_type": "code",
   "execution_count": 7,
   "metadata": {},
   "outputs": [],
   "source": [
    "queens = df[df.CountyName == 'Queens County']"
   ]
  },
  {
   "cell_type": "code",
   "execution_count": 8,
   "metadata": {},
   "outputs": [],
   "source": [
    "meta_cols = list(df.columns[0:9])"
   ]
  },
  {
   "cell_type": "code",
   "execution_count": 9,
   "metadata": {},
   "outputs": [],
   "source": [
    "meta_cols.remove('RegionName')"
   ]
  },
  {
   "cell_type": "code",
   "execution_count": 10,
   "metadata": {},
   "outputs": [],
   "source": [
    "queens = queens.drop(meta_cols, axis = 1)"
   ]
  },
  {
   "cell_type": "code",
   "execution_count": 11,
   "metadata": {},
   "outputs": [
    {
     "data": {
      "text/plain": [
       "(54, 297)"
      ]
     },
     "execution_count": 11,
     "metadata": {},
     "output_type": "execute_result"
    }
   ],
   "source": [
    "queens.shape"
   ]
  },
  {
   "cell_type": "code",
   "execution_count": 12,
   "metadata": {},
   "outputs": [
    {
     "data": {
      "text/plain": [
       "'2003-08-31'"
      ]
     },
     "execution_count": 12,
     "metadata": {},
     "output_type": "execute_result"
    }
   ],
   "source": [
    "queens.columns[queens.isnull().sum() != 0][-1]"
   ]
  },
  {
   "cell_type": "markdown",
   "metadata": {},
   "source": [
    "It seems like we have full data of all queens zipcode starting from 2003 September. Let's cap it at that."
   ]
  },
  {
   "cell_type": "code",
   "execution_count": 13,
   "metadata": {},
   "outputs": [],
   "source": [
    "queens = queens.dropna(axis = 1)"
   ]
  },
  {
   "cell_type": "markdown",
   "metadata": {},
   "source": [
    "## Percentage Increase\n",
    "We are trying to find the best neighborhood to invest in. We can approach this in different ways. I can predict the housing price for coming year then calculate the difference OR I can predict the percent increase for each time point. I'll try the percent increase first."
   ]
  },
  {
   "cell_type": "code",
   "execution_count": 14,
   "metadata": {},
   "outputs": [],
   "source": [
    "def calculate_percent_increase(x1, x2):\n",
    "    return (x2-x1)/x1"
   ]
  },
  {
   "cell_type": "code",
   "execution_count": 15,
   "metadata": {},
   "outputs": [],
   "source": [
    "queens_p = queens.copy()\n",
    "for i in range(queens_p.shape[1]-1,1, -1):\n",
    "    prior = queens_p.iloc[:, i-1]\n",
    "    current = queens_p.iloc[:, i] \n",
    "    queens_p.iloc[:, i] = calculate_percent_increase(prior, current)"
   ]
  },
  {
   "cell_type": "code",
   "execution_count": 16,
   "metadata": {},
   "outputs": [],
   "source": [
    "queens_p = queens_p.drop(['2003-09-30'], axis = 1)"
   ]
  },
  {
   "cell_type": "code",
   "execution_count": 17,
   "metadata": {},
   "outputs": [
    {
     "data": {
      "text/html": [
       "<div>\n",
       "<style scoped>\n",
       "    .dataframe tbody tr th:only-of-type {\n",
       "        vertical-align: middle;\n",
       "    }\n",
       "\n",
       "    .dataframe tbody tr th {\n",
       "        vertical-align: top;\n",
       "    }\n",
       "\n",
       "    .dataframe thead th {\n",
       "        text-align: right;\n",
       "    }\n",
       "</style>\n",
       "<table border=\"1\" class=\"dataframe\">\n",
       "  <thead>\n",
       "    <tr style=\"text-align: right;\">\n",
       "      <th></th>\n",
       "      <th>RegionName</th>\n",
       "      <th>2003-10-31</th>\n",
       "      <th>2003-11-30</th>\n",
       "      <th>2003-12-31</th>\n",
       "      <th>2004-01-31</th>\n",
       "      <th>2004-02-29</th>\n",
       "      <th>2004-03-31</th>\n",
       "      <th>2004-04-30</th>\n",
       "      <th>2004-05-31</th>\n",
       "      <th>2004-06-30</th>\n",
       "      <th>...</th>\n",
       "      <th>2019-11-30</th>\n",
       "      <th>2019-12-31</th>\n",
       "      <th>2020-01-31</th>\n",
       "      <th>2020-02-29</th>\n",
       "      <th>2020-03-31</th>\n",
       "      <th>2020-04-30</th>\n",
       "      <th>2020-05-31</th>\n",
       "      <th>2020-06-30</th>\n",
       "      <th>2020-07-31</th>\n",
       "      <th>2020-08-31</th>\n",
       "    </tr>\n",
       "  </thead>\n",
       "  <tbody>\n",
       "    <tr>\n",
       "      <th>20</th>\n",
       "      <td>11375</td>\n",
       "      <td>0.006411</td>\n",
       "      <td>0.009131</td>\n",
       "      <td>0.003931</td>\n",
       "      <td>0.006311</td>\n",
       "      <td>0.004354</td>\n",
       "      <td>0.006254</td>\n",
       "      <td>0.004558</td>\n",
       "      <td>0.006666</td>\n",
       "      <td>0.011679</td>\n",
       "      <td>...</td>\n",
       "      <td>-0.002352</td>\n",
       "      <td>0.003036</td>\n",
       "      <td>-0.001953</td>\n",
       "      <td>0.000245</td>\n",
       "      <td>-0.004263</td>\n",
       "      <td>-0.000569</td>\n",
       "      <td>-0.003133</td>\n",
       "      <td>0.001783</td>\n",
       "      <td>0.005330</td>\n",
       "      <td>0.006475</td>\n",
       "    </tr>\n",
       "    <tr>\n",
       "      <th>108</th>\n",
       "      <td>11377</td>\n",
       "      <td>0.000258</td>\n",
       "      <td>0.000237</td>\n",
       "      <td>0.009213</td>\n",
       "      <td>0.011472</td>\n",
       "      <td>0.011599</td>\n",
       "      <td>0.007563</td>\n",
       "      <td>0.007991</td>\n",
       "      <td>0.009957</td>\n",
       "      <td>0.015381</td>\n",
       "      <td>...</td>\n",
       "      <td>0.003102</td>\n",
       "      <td>0.004646</td>\n",
       "      <td>0.012626</td>\n",
       "      <td>0.011440</td>\n",
       "      <td>0.013656</td>\n",
       "      <td>0.012643</td>\n",
       "      <td>0.008985</td>\n",
       "      <td>0.005495</td>\n",
       "      <td>0.004898</td>\n",
       "      <td>0.008270</td>\n",
       "    </tr>\n",
       "  </tbody>\n",
       "</table>\n",
       "<p>2 rows × 204 columns</p>\n",
       "</div>"
      ],
      "text/plain": [
       "     RegionName  2003-10-31  2003-11-30  2003-12-31  2004-01-31  2004-02-29  \\\n",
       "20        11375    0.006411    0.009131    0.003931    0.006311    0.004354   \n",
       "108       11377    0.000258    0.000237    0.009213    0.011472    0.011599   \n",
       "\n",
       "     2004-03-31  2004-04-30  2004-05-31  2004-06-30  ...  2019-11-30  \\\n",
       "20     0.006254    0.004558    0.006666    0.011679  ...   -0.002352   \n",
       "108    0.007563    0.007991    0.009957    0.015381  ...    0.003102   \n",
       "\n",
       "     2019-12-31  2020-01-31  2020-02-29  2020-03-31  2020-04-30  2020-05-31  \\\n",
       "20     0.003036   -0.001953    0.000245   -0.004263   -0.000569   -0.003133   \n",
       "108    0.004646    0.012626    0.011440    0.013656    0.012643    0.008985   \n",
       "\n",
       "     2020-06-30  2020-07-31  2020-08-31  \n",
       "20     0.001783    0.005330    0.006475  \n",
       "108    0.005495    0.004898    0.008270  \n",
       "\n",
       "[2 rows x 204 columns]"
      ]
     },
     "execution_count": 17,
     "metadata": {},
     "output_type": "execute_result"
    }
   ],
   "source": [
    "queens_p.head(2)"
   ]
  },
  {
   "cell_type": "markdown",
   "metadata": {},
   "source": [
    "## Transpose\n",
    "Now I'll change the format to the wide format."
   ]
  },
  {
   "cell_type": "code",
   "execution_count": 18,
   "metadata": {},
   "outputs": [],
   "source": [
    "queens_p = queens_p.set_index('RegionName').transpose()"
   ]
  },
  {
   "cell_type": "markdown",
   "metadata": {},
   "source": [
    "## Fix Datetime\n",
    "Let's convert the index to datetime."
   ]
  },
  {
   "cell_type": "code",
   "execution_count": 19,
   "metadata": {},
   "outputs": [],
   "source": [
    "queens_p.index = pd.DatetimeIndex(queens_p.index)"
   ]
  },
  {
   "cell_type": "code",
   "execution_count": 20,
   "metadata": {},
   "outputs": [],
   "source": [
    "queens_p.index = queens_p.index.strftime('%m/%Y')"
   ]
  },
  {
   "cell_type": "code",
   "execution_count": 21,
   "metadata": {},
   "outputs": [],
   "source": [
    "queens_p.columns.name = None"
   ]
  },
  {
   "cell_type": "markdown",
   "metadata": {},
   "source": [
    "## Exporting \n",
    "Now let's export the dataframe."
   ]
  },
  {
   "cell_type": "code",
   "execution_count": 22,
   "metadata": {},
   "outputs": [],
   "source": [
    "with open('PKL/timeseries_queens_p.pkl', 'wb') as fp:\n",
    "    pickle.dump(queens_p, fp)"
   ]
  },
  {
   "cell_type": "code",
   "execution_count": 29,
   "metadata": {},
   "outputs": [],
   "source": [
    "queens_p.to_csv('DATA/timeseries_queens_p.csv', header=True)"
   ]
  },
  {
   "cell_type": "code",
   "execution_count": 28,
   "metadata": {},
   "outputs": [
    {
     "data": {
      "text/html": [
       "<div>\n",
       "<style scoped>\n",
       "    .dataframe tbody tr th:only-of-type {\n",
       "        vertical-align: middle;\n",
       "    }\n",
       "\n",
       "    .dataframe tbody tr th {\n",
       "        vertical-align: top;\n",
       "    }\n",
       "\n",
       "    .dataframe thead th {\n",
       "        text-align: right;\n",
       "    }\n",
       "</style>\n",
       "<table border=\"1\" class=\"dataframe\">\n",
       "  <thead>\n",
       "    <tr style=\"text-align: right;\">\n",
       "      <th></th>\n",
       "      <th>11375</th>\n",
       "      <th>11377</th>\n",
       "      <th>11355</th>\n",
       "      <th>11385</th>\n",
       "      <th>11373</th>\n",
       "      <th>11372</th>\n",
       "      <th>11101</th>\n",
       "      <th>11368</th>\n",
       "      <th>11354</th>\n",
       "      <th>11374</th>\n",
       "      <th>...</th>\n",
       "      <th>11411</th>\n",
       "      <th>11426</th>\n",
       "      <th>11428</th>\n",
       "      <th>11693</th>\n",
       "      <th>11004</th>\n",
       "      <th>11416</th>\n",
       "      <th>11436</th>\n",
       "      <th>11366</th>\n",
       "      <th>11363</th>\n",
       "      <th>11430</th>\n",
       "    </tr>\n",
       "  </thead>\n",
       "  <tbody>\n",
       "    <tr>\n",
       "      <th>count</th>\n",
       "      <td>203.000000</td>\n",
       "      <td>203.000000</td>\n",
       "      <td>203.000000</td>\n",
       "      <td>203.000000</td>\n",
       "      <td>203.000000</td>\n",
       "      <td>203.000000</td>\n",
       "      <td>203.000000</td>\n",
       "      <td>203.000000</td>\n",
       "      <td>203.000000</td>\n",
       "      <td>203.000000</td>\n",
       "      <td>...</td>\n",
       "      <td>203.000000</td>\n",
       "      <td>203.000000</td>\n",
       "      <td>203.000000</td>\n",
       "      <td>203.000000</td>\n",
       "      <td>203.000000</td>\n",
       "      <td>203.000000</td>\n",
       "      <td>203.000000</td>\n",
       "      <td>203.000000</td>\n",
       "      <td>203.000000</td>\n",
       "      <td>203.000000</td>\n",
       "    </tr>\n",
       "    <tr>\n",
       "      <th>mean</th>\n",
       "      <td>0.003468</td>\n",
       "      <td>0.003980</td>\n",
       "      <td>0.003774</td>\n",
       "      <td>0.003103</td>\n",
       "      <td>0.003162</td>\n",
       "      <td>0.003814</td>\n",
       "      <td>0.005330</td>\n",
       "      <td>0.003914</td>\n",
       "      <td>0.003601</td>\n",
       "      <td>0.003539</td>\n",
       "      <td>...</td>\n",
       "      <td>0.002739</td>\n",
       "      <td>0.002886</td>\n",
       "      <td>0.002316</td>\n",
       "      <td>0.003081</td>\n",
       "      <td>0.001975</td>\n",
       "      <td>0.002549</td>\n",
       "      <td>0.003111</td>\n",
       "      <td>0.003453</td>\n",
       "      <td>0.001965</td>\n",
       "      <td>0.001992</td>\n",
       "    </tr>\n",
       "    <tr>\n",
       "      <th>std</th>\n",
       "      <td>0.006692</td>\n",
       "      <td>0.007717</td>\n",
       "      <td>0.006652</td>\n",
       "      <td>0.006627</td>\n",
       "      <td>0.007821</td>\n",
       "      <td>0.008569</td>\n",
       "      <td>0.007859</td>\n",
       "      <td>0.007697</td>\n",
       "      <td>0.006709</td>\n",
       "      <td>0.008520</td>\n",
       "      <td>...</td>\n",
       "      <td>0.007363</td>\n",
       "      <td>0.006858</td>\n",
       "      <td>0.007345</td>\n",
       "      <td>0.010314</td>\n",
       "      <td>0.007057</td>\n",
       "      <td>0.008369</td>\n",
       "      <td>0.008167</td>\n",
       "      <td>0.006498</td>\n",
       "      <td>0.006203</td>\n",
       "      <td>0.006596</td>\n",
       "    </tr>\n",
       "    <tr>\n",
       "      <th>min</th>\n",
       "      <td>-0.019908</td>\n",
       "      <td>-0.016257</td>\n",
       "      <td>-0.019908</td>\n",
       "      <td>-0.012859</td>\n",
       "      <td>-0.020079</td>\n",
       "      <td>-0.019625</td>\n",
       "      <td>-0.017273</td>\n",
       "      <td>-0.018935</td>\n",
       "      <td>-0.019349</td>\n",
       "      <td>-0.023471</td>\n",
       "      <td>...</td>\n",
       "      <td>-0.014668</td>\n",
       "      <td>-0.018406</td>\n",
       "      <td>-0.016882</td>\n",
       "      <td>-0.021074</td>\n",
       "      <td>-0.017144</td>\n",
       "      <td>-0.022085</td>\n",
       "      <td>-0.016185</td>\n",
       "      <td>-0.019452</td>\n",
       "      <td>-0.018754</td>\n",
       "      <td>-0.015132</td>\n",
       "    </tr>\n",
       "    <tr>\n",
       "      <th>25%</th>\n",
       "      <td>-0.000548</td>\n",
       "      <td>-0.001315</td>\n",
       "      <td>-0.000384</td>\n",
       "      <td>-0.001108</td>\n",
       "      <td>-0.001822</td>\n",
       "      <td>-0.002126</td>\n",
       "      <td>-0.000049</td>\n",
       "      <td>-0.000367</td>\n",
       "      <td>0.000622</td>\n",
       "      <td>-0.002761</td>\n",
       "      <td>...</td>\n",
       "      <td>-0.001037</td>\n",
       "      <td>-0.000602</td>\n",
       "      <td>-0.001912</td>\n",
       "      <td>-0.004706</td>\n",
       "      <td>-0.002318</td>\n",
       "      <td>-0.001192</td>\n",
       "      <td>-0.001953</td>\n",
       "      <td>-0.000805</td>\n",
       "      <td>-0.001898</td>\n",
       "      <td>-0.001924</td>\n",
       "    </tr>\n",
       "    <tr>\n",
       "      <th>50%</th>\n",
       "      <td>0.004490</td>\n",
       "      <td>0.004404</td>\n",
       "      <td>0.004049</td>\n",
       "      <td>0.003410</td>\n",
       "      <td>0.004533</td>\n",
       "      <td>0.005018</td>\n",
       "      <td>0.004979</td>\n",
       "      <td>0.004382</td>\n",
       "      <td>0.003751</td>\n",
       "      <td>0.004402</td>\n",
       "      <td>...</td>\n",
       "      <td>0.003207</td>\n",
       "      <td>0.003729</td>\n",
       "      <td>0.003402</td>\n",
       "      <td>0.003297</td>\n",
       "      <td>0.002206</td>\n",
       "      <td>0.003577</td>\n",
       "      <td>0.004353</td>\n",
       "      <td>0.004218</td>\n",
       "      <td>0.002372</td>\n",
       "      <td>0.002994</td>\n",
       "    </tr>\n",
       "    <tr>\n",
       "      <th>75%</th>\n",
       "      <td>0.007610</td>\n",
       "      <td>0.009318</td>\n",
       "      <td>0.008065</td>\n",
       "      <td>0.008352</td>\n",
       "      <td>0.008083</td>\n",
       "      <td>0.009495</td>\n",
       "      <td>0.009990</td>\n",
       "      <td>0.008675</td>\n",
       "      <td>0.008048</td>\n",
       "      <td>0.008854</td>\n",
       "      <td>...</td>\n",
       "      <td>0.007580</td>\n",
       "      <td>0.007032</td>\n",
       "      <td>0.006429</td>\n",
       "      <td>0.010596</td>\n",
       "      <td>0.006685</td>\n",
       "      <td>0.007881</td>\n",
       "      <td>0.008660</td>\n",
       "      <td>0.008273</td>\n",
       "      <td>0.005806</td>\n",
       "      <td>0.005940</td>\n",
       "    </tr>\n",
       "    <tr>\n",
       "      <th>max</th>\n",
       "      <td>0.019103</td>\n",
       "      <td>0.026217</td>\n",
       "      <td>0.019747</td>\n",
       "      <td>0.017497</td>\n",
       "      <td>0.020607</td>\n",
       "      <td>0.022414</td>\n",
       "      <td>0.025790</td>\n",
       "      <td>0.020306</td>\n",
       "      <td>0.020037</td>\n",
       "      <td>0.021030</td>\n",
       "      <td>...</td>\n",
       "      <td>0.021923</td>\n",
       "      <td>0.019790</td>\n",
       "      <td>0.020310</td>\n",
       "      <td>0.029752</td>\n",
       "      <td>0.018371</td>\n",
       "      <td>0.022386</td>\n",
       "      <td>0.021145</td>\n",
       "      <td>0.018679</td>\n",
       "      <td>0.018841</td>\n",
       "      <td>0.019948</td>\n",
       "    </tr>\n",
       "  </tbody>\n",
       "</table>\n",
       "<p>8 rows × 54 columns</p>\n",
       "</div>"
      ],
      "text/plain": [
       "            11375       11377       11355       11385       11373       11372  \\\n",
       "count  203.000000  203.000000  203.000000  203.000000  203.000000  203.000000   \n",
       "mean     0.003468    0.003980    0.003774    0.003103    0.003162    0.003814   \n",
       "std      0.006692    0.007717    0.006652    0.006627    0.007821    0.008569   \n",
       "min     -0.019908   -0.016257   -0.019908   -0.012859   -0.020079   -0.019625   \n",
       "25%     -0.000548   -0.001315   -0.000384   -0.001108   -0.001822   -0.002126   \n",
       "50%      0.004490    0.004404    0.004049    0.003410    0.004533    0.005018   \n",
       "75%      0.007610    0.009318    0.008065    0.008352    0.008083    0.009495   \n",
       "max      0.019103    0.026217    0.019747    0.017497    0.020607    0.022414   \n",
       "\n",
       "            11101       11368       11354       11374  ...       11411  \\\n",
       "count  203.000000  203.000000  203.000000  203.000000  ...  203.000000   \n",
       "mean     0.005330    0.003914    0.003601    0.003539  ...    0.002739   \n",
       "std      0.007859    0.007697    0.006709    0.008520  ...    0.007363   \n",
       "min     -0.017273   -0.018935   -0.019349   -0.023471  ...   -0.014668   \n",
       "25%     -0.000049   -0.000367    0.000622   -0.002761  ...   -0.001037   \n",
       "50%      0.004979    0.004382    0.003751    0.004402  ...    0.003207   \n",
       "75%      0.009990    0.008675    0.008048    0.008854  ...    0.007580   \n",
       "max      0.025790    0.020306    0.020037    0.021030  ...    0.021923   \n",
       "\n",
       "            11426       11428       11693       11004       11416       11436  \\\n",
       "count  203.000000  203.000000  203.000000  203.000000  203.000000  203.000000   \n",
       "mean     0.002886    0.002316    0.003081    0.001975    0.002549    0.003111   \n",
       "std      0.006858    0.007345    0.010314    0.007057    0.008369    0.008167   \n",
       "min     -0.018406   -0.016882   -0.021074   -0.017144   -0.022085   -0.016185   \n",
       "25%     -0.000602   -0.001912   -0.004706   -0.002318   -0.001192   -0.001953   \n",
       "50%      0.003729    0.003402    0.003297    0.002206    0.003577    0.004353   \n",
       "75%      0.007032    0.006429    0.010596    0.006685    0.007881    0.008660   \n",
       "max      0.019790    0.020310    0.029752    0.018371    0.022386    0.021145   \n",
       "\n",
       "            11366       11363       11430  \n",
       "count  203.000000  203.000000  203.000000  \n",
       "mean     0.003453    0.001965    0.001992  \n",
       "std      0.006498    0.006203    0.006596  \n",
       "min     -0.019452   -0.018754   -0.015132  \n",
       "25%     -0.000805   -0.001898   -0.001924  \n",
       "50%      0.004218    0.002372    0.002994  \n",
       "75%      0.008273    0.005806    0.005940  \n",
       "max      0.018679    0.018841    0.019948  \n",
       "\n",
       "[8 rows x 54 columns]"
      ]
     },
     "execution_count": 28,
     "metadata": {},
     "output_type": "execute_result"
    }
   ],
   "source": [
    "queens_p.describe()"
   ]
  },
  {
   "cell_type": "code",
   "execution_count": null,
   "metadata": {},
   "outputs": [],
   "source": []
  }
 ],
 "metadata": {
  "kernelspec": {
   "display_name": "Python 3",
   "language": "python",
   "name": "python3"
  },
  "language_info": {
   "codemirror_mode": {
    "name": "ipython",
    "version": 3
   },
   "file_extension": ".py",
   "mimetype": "text/x-python",
   "name": "python",
   "nbconvert_exporter": "python",
   "pygments_lexer": "ipython3",
   "version": "3.7.4"
  }
 },
 "nbformat": 4,
 "nbformat_minor": 2
}
